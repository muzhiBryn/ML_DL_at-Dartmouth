{
 "cells": [
  {
   "cell_type": "markdown",
   "metadata": {},
   "source": [
    "# Assignment 4. Modeling\n",
    "\n",
    "### Due: March 4th (Thursday) 11:59 pm\n",
    "\n",
    "## Introduction\n",
    "\n",
    "In this assignment, we ask you to create a classifier for detecting spam. Please populate this Jupyter notebook with your code and embeded results (outputs, figures, etc) and submit it on Canvas.\n",
    "\n",
    "\n",
    "### Useful libraries for this assignment\n",
    "\n",
    "- sklearn\n"
   ]
  },
  {
   "cell_type": "markdown",
   "metadata": {},
   "source": [
    "### Q1 (50 points)\n",
    "You have been provided a spam dataset (SPAM.csv). Each line in the dataset corresponds to one message and has a label of either \"ham\" or \"spam\". In this assignment, you are experimenting with different features and models to create the best spam detector possible.  \n",
    "\n",
    "Load the data into a dataframe. Divide the data into a train/test set with the ratio 85/15. Finally, use sklearn to run the following experiments.\n",
    "\n",
    "Train and evaluate (using 5-fold cross validation) the following models:\n",
    "\n",
    "(1) Logistic Regression \n",
    "<br>\n",
    "(2) Random Forest \n",
    "<br>\n",
    "(3) K Nearest Neighbours with n_neighbors = 3 \n",
    "<br>\n",
    "(4)  K Nearest Neighbours with n_neighbors = 5\n",
    "\n",
    "and the following preprocessing:\n",
    "<br>\n",
    "(1) with lowercasing <br> (2) without lowercasing\n",
    "\n",
    "and the following features: \n",
    "<br>\n",
    "(1) unigrams <br>(2) unigrams and bigrams <br>(3) unigrams and bigrams and trigrams <br>\n",
    "(4) tfidf unigrams <br>(5) tfidf  unigrams and bigrams <br>(6) tfidf  unigrams and bigrams and trigrams \n",
    "\n",
    "So that's 4 models x 2 possible prepreocessing x 6 possible features = 48 models\n",
    "\n",
    "Create a dataframe where each row is one of the models and 3 columns showing the default f1 (default parameters), the weighted f1, and the accuracy of the model. Please use a human readable name for each model (don't call them model1, model2, etc.)\n",
    "\n",
    "Which model has best weighted f1?\n",
    "\n",
    "Take the best model and run it on the test dataset. Report the weighted f1 and plot the precision recall curve.\n",
    "\n",
    "HINT 1: You should convert the \"spam\" category to 1 and the \"ham\" category to 0, sklearn models can only work with numbers.\n",
    "\n",
    "HINT 2: Cross-validation should be run using the training data only."
   ]
  },
  {
   "cell_type": "code",
   "execution_count": 1,
   "metadata": {},
   "outputs": [
    {
     "data": {
      "text/plain": "                                        f1  f1_weighted  accuracy\nLR,lower,uni                      0.931934     0.982311  0.982771\nLR,lower,uni-bi                   0.930052     0.981797  0.982292\nLR,lower,uni-bi-tri               0.930052     0.981797  0.982292\nLR,lower,tf-idf-uni               0.853892     0.963682  0.965782\nLR,lower,tf-idf-uni-bi            0.851829     0.963307  0.965543\nLR,lower,tf-idf-uni-bi-tri        0.841198     0.960843  0.963389\nLR,non-lower,uni                  0.931934     0.982311  0.982771\nLR,non-lower,uni-bi               0.930052     0.981797  0.982292\nLR,non-lower,uni-bi-tri           0.930052     0.981797  0.982292\nLR,non-lower,tf-idf-uni           0.853892     0.963682  0.965782\nLR,non-lower,tf-idf-uni-bi        0.851829     0.963307  0.965543\nLR,non-lower,tf-idf-uni-bi-tri    0.841198     0.960843  0.963389\nRF,lower,uni                      0.918148     0.978984  0.979660\nRF,lower,uni-bi                   0.922138     0.979972  0.980618\nRF,lower,uni-bi-tri               0.922891     0.980219  0.980856\nRF,lower,tf-idf-uni               0.921367     0.979751  0.980378\nRF,lower,tf-idf-uni-bi            0.923108     0.980227  0.980857\nRF,lower,tf-idf-uni-bi-tri        0.919966     0.979459  0.980139\nRF,non-lower,uni                  0.919396     0.979222  0.979900\nRF,non-lower,uni-bi               0.921850     0.979945  0.980617\nRF,non-lower,uni-bi-tri           0.922094     0.979982  0.980617\nRF,non-lower,tf-idf-uni           0.925587     0.980723  0.981335\nRF,non-lower,tf-idf-uni-bi        0.918939     0.979180  0.979899\nRF,non-lower,tf-idf-uni-bi-tri    0.918293     0.978928  0.979660\nKNN3,lower,uni                    0.655980     0.921362  0.931803\nKNN3,lower,uni-bi                 0.639383     0.917577  0.928933\nKNN3,lower,uni-bi-tri             0.630664     0.915916  0.927736\nKNN3,lower,tf-idf-uni             0.649631     0.920540  0.931324\nKNN3,lower,tf-idf-uni-bi          0.646445     0.919934  0.930845\nKNN3,lower,tf-idf-uni-bi-tri      0.652750     0.921196  0.931802\nKNN3,non-lower,uni                0.655980     0.921362  0.931803\nKNN3,non-lower,uni-bi             0.639383     0.917577  0.928933\nKNN3,non-lower,uni-bi-tri         0.630664     0.915916  0.927736\nKNN3,non-lower,tf-idf-uni         0.649631     0.920540  0.931324\nKNN3,non-lower,tf-idf-uni-bi      0.646445     0.919934  0.930845\nKNN3,non-lower,tf-idf-uni-bi-tri  0.652750     0.921196  0.931802\nKNN5,lower,uni                    0.497366     0.884085  0.898540\nKNN5,lower,uni-bi                 0.497595     0.882639  0.895667\nKNN5,lower,uni-bi-tri             0.494290     0.882185  0.895908\nKNN5,lower,tf-idf-uni             0.452673     0.842679  0.835364\nKNN5,lower,tf-idf-uni-bi          0.444982     0.840046  0.832496\nKNN5,lower,tf-idf-uni-bi-tri      0.460170     0.843129  0.835369\nKNN5,non-lower,uni                0.497366     0.884085  0.898540\nKNN5,non-lower,uni-bi             0.497595     0.882639  0.895667\nKNN5,non-lower,uni-bi-tri         0.494290     0.882185  0.895908\nKNN5,non-lower,tf-idf-uni         0.452673     0.842679  0.835364\nKNN5,non-lower,tf-idf-uni-bi      0.444982     0.840046  0.832496\nKNN5,non-lower,tf-idf-uni-bi-tri  0.460170     0.843129  0.835369",
      "text/html": "<div>\n<style scoped>\n    .dataframe tbody tr th:only-of-type {\n        vertical-align: middle;\n    }\n\n    .dataframe tbody tr th {\n        vertical-align: top;\n    }\n\n    .dataframe thead th {\n        text-align: right;\n    }\n</style>\n<table border=\"1\" class=\"dataframe\">\n  <thead>\n    <tr style=\"text-align: right;\">\n      <th></th>\n      <th>f1</th>\n      <th>f1_weighted</th>\n      <th>accuracy</th>\n    </tr>\n  </thead>\n  <tbody>\n    <tr>\n      <th>LR,lower,uni</th>\n      <td>0.931934</td>\n      <td>0.982311</td>\n      <td>0.982771</td>\n    </tr>\n    <tr>\n      <th>LR,lower,uni-bi</th>\n      <td>0.930052</td>\n      <td>0.981797</td>\n      <td>0.982292</td>\n    </tr>\n    <tr>\n      <th>LR,lower,uni-bi-tri</th>\n      <td>0.930052</td>\n      <td>0.981797</td>\n      <td>0.982292</td>\n    </tr>\n    <tr>\n      <th>LR,lower,tf-idf-uni</th>\n      <td>0.853892</td>\n      <td>0.963682</td>\n      <td>0.965782</td>\n    </tr>\n    <tr>\n      <th>LR,lower,tf-idf-uni-bi</th>\n      <td>0.851829</td>\n      <td>0.963307</td>\n      <td>0.965543</td>\n    </tr>\n    <tr>\n      <th>LR,lower,tf-idf-uni-bi-tri</th>\n      <td>0.841198</td>\n      <td>0.960843</td>\n      <td>0.963389</td>\n    </tr>\n    <tr>\n      <th>LR,non-lower,uni</th>\n      <td>0.931934</td>\n      <td>0.982311</td>\n      <td>0.982771</td>\n    </tr>\n    <tr>\n      <th>LR,non-lower,uni-bi</th>\n      <td>0.930052</td>\n      <td>0.981797</td>\n      <td>0.982292</td>\n    </tr>\n    <tr>\n      <th>LR,non-lower,uni-bi-tri</th>\n      <td>0.930052</td>\n      <td>0.981797</td>\n      <td>0.982292</td>\n    </tr>\n    <tr>\n      <th>LR,non-lower,tf-idf-uni</th>\n      <td>0.853892</td>\n      <td>0.963682</td>\n      <td>0.965782</td>\n    </tr>\n    <tr>\n      <th>LR,non-lower,tf-idf-uni-bi</th>\n      <td>0.851829</td>\n      <td>0.963307</td>\n      <td>0.965543</td>\n    </tr>\n    <tr>\n      <th>LR,non-lower,tf-idf-uni-bi-tri</th>\n      <td>0.841198</td>\n      <td>0.960843</td>\n      <td>0.963389</td>\n    </tr>\n    <tr>\n      <th>RF,lower,uni</th>\n      <td>0.918148</td>\n      <td>0.978984</td>\n      <td>0.979660</td>\n    </tr>\n    <tr>\n      <th>RF,lower,uni-bi</th>\n      <td>0.922138</td>\n      <td>0.979972</td>\n      <td>0.980618</td>\n    </tr>\n    <tr>\n      <th>RF,lower,uni-bi-tri</th>\n      <td>0.922891</td>\n      <td>0.980219</td>\n      <td>0.980856</td>\n    </tr>\n    <tr>\n      <th>RF,lower,tf-idf-uni</th>\n      <td>0.921367</td>\n      <td>0.979751</td>\n      <td>0.980378</td>\n    </tr>\n    <tr>\n      <th>RF,lower,tf-idf-uni-bi</th>\n      <td>0.923108</td>\n      <td>0.980227</td>\n      <td>0.980857</td>\n    </tr>\n    <tr>\n      <th>RF,lower,tf-idf-uni-bi-tri</th>\n      <td>0.919966</td>\n      <td>0.979459</td>\n      <td>0.980139</td>\n    </tr>\n    <tr>\n      <th>RF,non-lower,uni</th>\n      <td>0.919396</td>\n      <td>0.979222</td>\n      <td>0.979900</td>\n    </tr>\n    <tr>\n      <th>RF,non-lower,uni-bi</th>\n      <td>0.921850</td>\n      <td>0.979945</td>\n      <td>0.980617</td>\n    </tr>\n    <tr>\n      <th>RF,non-lower,uni-bi-tri</th>\n      <td>0.922094</td>\n      <td>0.979982</td>\n      <td>0.980617</td>\n    </tr>\n    <tr>\n      <th>RF,non-lower,tf-idf-uni</th>\n      <td>0.925587</td>\n      <td>0.980723</td>\n      <td>0.981335</td>\n    </tr>\n    <tr>\n      <th>RF,non-lower,tf-idf-uni-bi</th>\n      <td>0.918939</td>\n      <td>0.979180</td>\n      <td>0.979899</td>\n    </tr>\n    <tr>\n      <th>RF,non-lower,tf-idf-uni-bi-tri</th>\n      <td>0.918293</td>\n      <td>0.978928</td>\n      <td>0.979660</td>\n    </tr>\n    <tr>\n      <th>KNN3,lower,uni</th>\n      <td>0.655980</td>\n      <td>0.921362</td>\n      <td>0.931803</td>\n    </tr>\n    <tr>\n      <th>KNN3,lower,uni-bi</th>\n      <td>0.639383</td>\n      <td>0.917577</td>\n      <td>0.928933</td>\n    </tr>\n    <tr>\n      <th>KNN3,lower,uni-bi-tri</th>\n      <td>0.630664</td>\n      <td>0.915916</td>\n      <td>0.927736</td>\n    </tr>\n    <tr>\n      <th>KNN3,lower,tf-idf-uni</th>\n      <td>0.649631</td>\n      <td>0.920540</td>\n      <td>0.931324</td>\n    </tr>\n    <tr>\n      <th>KNN3,lower,tf-idf-uni-bi</th>\n      <td>0.646445</td>\n      <td>0.919934</td>\n      <td>0.930845</td>\n    </tr>\n    <tr>\n      <th>KNN3,lower,tf-idf-uni-bi-tri</th>\n      <td>0.652750</td>\n      <td>0.921196</td>\n      <td>0.931802</td>\n    </tr>\n    <tr>\n      <th>KNN3,non-lower,uni</th>\n      <td>0.655980</td>\n      <td>0.921362</td>\n      <td>0.931803</td>\n    </tr>\n    <tr>\n      <th>KNN3,non-lower,uni-bi</th>\n      <td>0.639383</td>\n      <td>0.917577</td>\n      <td>0.928933</td>\n    </tr>\n    <tr>\n      <th>KNN3,non-lower,uni-bi-tri</th>\n      <td>0.630664</td>\n      <td>0.915916</td>\n      <td>0.927736</td>\n    </tr>\n    <tr>\n      <th>KNN3,non-lower,tf-idf-uni</th>\n      <td>0.649631</td>\n      <td>0.920540</td>\n      <td>0.931324</td>\n    </tr>\n    <tr>\n      <th>KNN3,non-lower,tf-idf-uni-bi</th>\n      <td>0.646445</td>\n      <td>0.919934</td>\n      <td>0.930845</td>\n    </tr>\n    <tr>\n      <th>KNN3,non-lower,tf-idf-uni-bi-tri</th>\n      <td>0.652750</td>\n      <td>0.921196</td>\n      <td>0.931802</td>\n    </tr>\n    <tr>\n      <th>KNN5,lower,uni</th>\n      <td>0.497366</td>\n      <td>0.884085</td>\n      <td>0.898540</td>\n    </tr>\n    <tr>\n      <th>KNN5,lower,uni-bi</th>\n      <td>0.497595</td>\n      <td>0.882639</td>\n      <td>0.895667</td>\n    </tr>\n    <tr>\n      <th>KNN5,lower,uni-bi-tri</th>\n      <td>0.494290</td>\n      <td>0.882185</td>\n      <td>0.895908</td>\n    </tr>\n    <tr>\n      <th>KNN5,lower,tf-idf-uni</th>\n      <td>0.452673</td>\n      <td>0.842679</td>\n      <td>0.835364</td>\n    </tr>\n    <tr>\n      <th>KNN5,lower,tf-idf-uni-bi</th>\n      <td>0.444982</td>\n      <td>0.840046</td>\n      <td>0.832496</td>\n    </tr>\n    <tr>\n      <th>KNN5,lower,tf-idf-uni-bi-tri</th>\n      <td>0.460170</td>\n      <td>0.843129</td>\n      <td>0.835369</td>\n    </tr>\n    <tr>\n      <th>KNN5,non-lower,uni</th>\n      <td>0.497366</td>\n      <td>0.884085</td>\n      <td>0.898540</td>\n    </tr>\n    <tr>\n      <th>KNN5,non-lower,uni-bi</th>\n      <td>0.497595</td>\n      <td>0.882639</td>\n      <td>0.895667</td>\n    </tr>\n    <tr>\n      <th>KNN5,non-lower,uni-bi-tri</th>\n      <td>0.494290</td>\n      <td>0.882185</td>\n      <td>0.895908</td>\n    </tr>\n    <tr>\n      <th>KNN5,non-lower,tf-idf-uni</th>\n      <td>0.452673</td>\n      <td>0.842679</td>\n      <td>0.835364</td>\n    </tr>\n    <tr>\n      <th>KNN5,non-lower,tf-idf-uni-bi</th>\n      <td>0.444982</td>\n      <td>0.840046</td>\n      <td>0.832496</td>\n    </tr>\n    <tr>\n      <th>KNN5,non-lower,tf-idf-uni-bi-tri</th>\n      <td>0.460170</td>\n      <td>0.843129</td>\n      <td>0.835369</td>\n    </tr>\n  </tbody>\n</table>\n</div>"
     },
     "execution_count": 1,
     "metadata": {},
     "output_type": "execute_result"
    }
   ],
   "source": [
    "# write your code here\n",
    "\n",
    "import pandas as pd\n",
    "from nltk import ngrams\n",
    "from itertools import product\n",
    "from sklearn.linear_model import LogisticRegression\n",
    "from sklearn.ensemble import RandomForestClassifier\n",
    "from sklearn.neighbors import KNeighborsClassifier\n",
    "from sklearn.feature_extraction.text import CountVectorizer, TfidfVectorizer\n",
    "from sklearn.model_selection import train_test_split, KFold\n",
    "from sklearn.metrics import f1_score, accuracy_score\n",
    "data = pd.read_csv(\"SPAM.csv\")\n",
    "data['Category'] = data['Category'].replace({'ham':0, 'spam':1})\n",
    "ori_X_train, ori_X_test, ori_y_train, ori_y_test = train_test_split(data['Message'],data['Category'],test_size=0.25)\n",
    "\n",
    "ml_models = [\"LR\", \"RF\", \"KNN3\", \"KNN5\"]\n",
    "case_options = [\"lower\", \"non-lower\"]\n",
    "feature_options = [\"uni\", \"uni-bi\", \"uni-bi-tri\", \"tf-idf-uni\", \"tf-idf-uni-bi\", \"tf-idf-uni-bi-tri\"]\n",
    "\n",
    "\n",
    "\n",
    "def get_ml_model(model_name):\n",
    "    if model_name == \"LR\":\n",
    "        return LogisticRegression()\n",
    "    elif model_name == \"RF\":\n",
    "        return RandomForestClassifier()\n",
    "    elif model_name == \"KNN3\":\n",
    "        return KNeighborsClassifier(n_neighbors=3)\n",
    "    elif model_name == \"KNN5\":\n",
    "        return KNeighborsClassifier(n_neighbors=5)\n",
    "    else:\n",
    "        raise(\"model not defined\")\n",
    "\n",
    "def get_preprocessed_case(option, X):\n",
    "    if option == \"lower\":\n",
    "        return X.apply(lambda x: x.lower())\n",
    "    elif option == \"non-lower\":\n",
    "        return X\n",
    "    else:\n",
    "        raise(\"case option not defined\")\n",
    "\n",
    "\n",
    "def get_nlp_feature(option, X_train, X_test):\n",
    "    if option.startswith('tf'):\n",
    "        vec_func = TfidfVectorizer\n",
    "    else:\n",
    "        vec_func = CountVectorizer\n",
    "\n",
    "    if \"uni-bi-tri\" in option:\n",
    "        ngram_range = (1, 3)\n",
    "    elif \"uni-bi\" in option:\n",
    "        ngram_range = (1, 2)\n",
    "    elif \"uni\" in option:\n",
    "        ngram_range = (1, 1)\n",
    "    else:\n",
    "        raise(\"wrong nlp feature option\")\n",
    "\n",
    "    CVector=vec_func(ngram_range=ngram_range, min_df=5)\n",
    "    vect=CVector.fit(X_train)\n",
    "    X_train_vectorized=vect.transform(X_train)\n",
    "    X_test_vectorized=vect.transform(X_test)\n",
    "    return X_train_vectorized, X_test_vectorized\n",
    "\n",
    "validation_scores_data = [[0, 0, 0] for _ in range(48)]\n",
    "model_idx = 0\n",
    "validation_scores_model_name = []\n",
    "\n",
    "for model_name, case_option, feature_option in product(ml_models, case_options, feature_options):\n",
    "    X_train = get_preprocessed_case(case_option, ori_X_train)\n",
    "    X_test = get_preprocessed_case(case_option, ori_X_test)\n",
    "    X_train, X_test = get_nlp_feature(feature_option, X_train, X_test)\n",
    "    # model.fit(X_train, ori_y_train)\n",
    "    kf = KFold(n_splits=5)\n",
    "    model_score = [0, 0, 0]\n",
    "    for train_idx, vali_idx in kf.split(X_train):\n",
    "        model = get_ml_model(model_name)\n",
    "        X_train_train, X_train_vali = X_train[train_idx], X_train[vali_idx]\n",
    "        y_train_train, y_train_vali = ori_y_train.iloc[train_idx], ori_y_train.iloc[vali_idx]\n",
    "        model.fit(X_train_train, y_train_train)\n",
    "        y_vali_pred = model.predict(X_train_vali)\n",
    "        model_score[0] += f1_score(y_train_vali, y_vali_pred)\n",
    "        model_score[1] += f1_score(y_train_vali, y_vali_pred, average=\"weighted\")\n",
    "        model_score[2] += accuracy_score(y_train_vali, y_vali_pred)\n",
    "    model_score = [i/5 for i in model_score]\n",
    "    validation_scores_data[model_idx] = model_score\n",
    "    model_idx += 1\n",
    "    validation_scores_model_name.append(\",\".join([model_name, case_option, feature_option]))\n",
    "\n",
    "\n",
    "validation_scores_df = pd.DataFrame(data=validation_scores_data)\n",
    "validation_scores_df.index = validation_scores_model_name\n",
    "validation_scores_df.columns = ['f1', 'f1_weighted', 'accuracy']\n",
    "validation_scores_df"
   ]
  },
  {
   "cell_type": "markdown",
   "metadata": {
    "pycharm": {
     "name": "#%% md\n"
    }
   },
   "source": [
    "Best settings are: LR,lower,uni-bi, with averaged 5-fold f1_weighted on validation = 0.981615"
   ]
  },
  {
   "cell_type": "code",
   "execution_count": 3,
   "outputs": [
    {
     "name": "stdout",
     "output_type": "stream",
     "text": [
      "weighted f1 score on test set is: 0.9804183900197779\n"
     ]
    },
    {
     "data": {
      "text/plain": "<sklearn.metrics._plot.precision_recall_curve.PrecisionRecallDisplay at 0x10eed2df0>"
     },
     "execution_count": 3,
     "metadata": {},
     "output_type": "execute_result"
    },
    {
     "data": {
      "text/plain": "<Figure size 432x288 with 1 Axes>",
      "image/png": "[encoded data removed]"
     },
     "metadata": {
      "needs_background": "light"
     },
     "output_type": "display_data"
    }
   ],
   "source": [
    "from sklearn.metrics import plot_precision_recall_curve\n",
    "X_train = get_preprocessed_case(\"lower\", ori_X_train)\n",
    "X_test = get_preprocessed_case(\"lower\", ori_X_test)\n",
    "X_train, X_test = get_nlp_feature(\"uni-bi\", X_train, X_test)\n",
    "model = get_ml_model(\"LR\")\n",
    "model.fit(X_train, ori_y_train)\n",
    "y_test_pred = model.predict(X_test)\n",
    "print(f\"weighted f1 score on test set is: {f1_score(ori_y_test, y_test_pred, average='weighted')}\")\n",
    "plot_precision_recall_curve(model, X_test, ori_y_test)"
   ],
   "metadata": {
    "collapsed": false,
    "pycharm": {
     "name": "#%%\n"
    }
   }
  },
  {
   "cell_type": "markdown",
   "source": [
    "### BONUS (20 points)\n",
    "Find a combination of preprocessing, features, and models that outperforms the best model above (using weighted f1 as a metric)"
   ],
   "metadata": {
    "collapsed": false,
    "pycharm": {
     "name": "#%% md\n"
    }
   }
  },
  {
   "cell_type": "code",
   "execution_count": 18,
   "metadata": {
    "pycharm": {
     "name": "#%%\n"
    }
   },
   "outputs": [
    {
     "name": "stdout",
     "output_type": "stream",
     "text": [
      "weighted f1 score on test set is: 0.9831601705728652\n"
     ]
    },
    {
     "data": {
      "text/plain": "<sklearn.metrics._plot.precision_recall_curve.PrecisionRecallDisplay at 0x14284caf0>"
     },
     "execution_count": 18,
     "metadata": {},
     "output_type": "execute_result"
    },
    {
     "data": {
      "text/plain": "<Figure size 432x288 with 1 Axes>",
      "image/png": "[encoded data removed]"
     },
     "metadata": {
      "needs_background": "light"
     },
     "output_type": "display_data"
    }
   ],
   "source": [
    "from nltk.corpus import stopwords\n",
    "from nltk import PorterStemmer, word_tokenize\n",
    "\n",
    "porter = PorterStemmer()\n",
    "sws = stopwords.words('english')\n",
    "\n",
    "def get_preprocessed_stem(x):\n",
    "    cleaned_text = []\n",
    "    words = word_tokenize(x)\n",
    "\n",
    "    for w in words:\n",
    "        if w.isalnum():\n",
    "            w = w.lower()\n",
    "            if w not in sws:\n",
    "                cleaned_text.append(porter.stem(w))\n",
    "        else:\n",
    "            cleaned_text.append(w)\n",
    "    return ' '.join(cleaned_text)\n",
    "\n",
    "X_train = ori_X_train.apply(get_preprocessed_stem)\n",
    "X_test = ori_X_test.apply(get_preprocessed_stem)\n",
    "X_train, X_test = get_nlp_feature(\"uni-bi\", X_train, X_test)\n",
    "model = get_ml_model(\"LR\")\n",
    "model.fit(X_train, ori_y_train)\n",
    "y_test_pred = model.predict(X_test)\n",
    "print(f\"weighted f1 score on test set is: {f1_score(ori_y_test, y_test_pred, average='weighted')}\")\n",
    "plot_precision_recall_curve(model, X_test, ori_y_test)\n"
   ]
  }
 ],
 "metadata": {
  "kernelspec": {
   "display_name": "Python 3",
   "language": "python",
   "name": "python3"
  },
  "language_info": {
   "codemirror_mode": {
    "name": "ipython",
    "version": 3
   },
   "file_extension": ".py",
   "mimetype": "text/x-python",
   "name": "python",
   "nbconvert_exporter": "python",
   "pygments_lexer": "ipython3",
   "version": "3.7.3"
  }
 },
 "nbformat": 4,
 "nbformat_minor": 2
}